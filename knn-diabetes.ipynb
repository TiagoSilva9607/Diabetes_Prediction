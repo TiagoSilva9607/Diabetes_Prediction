{
 "cells": [
  {
   "cell_type": "code",
   "execution_count": null,
   "metadata": {},
   "outputs": [
    {
     "name": "stdout",
     "output_type": "stream",
     "text": [
      "Numero de pacientes com Diabetes na base de dados: 268\n",
      "\n",
      "Numero de pacientes sem Diabetes na base de dados: 500\n",
      "\n",
      "Accuracy = 0.7077922077922078\n",
      "\n"
     ]
    }
   ],
   "source": [
    "#KNN\n",
    "import numpy as np\n",
    "from sklearn import preprocessing, model_selection, neighbors \n",
    "import pandas as pd \n",
    "accuracies=[]\n",
    "\n",
    "#for i in range(25): \n",
    "df=pd.read_csv('Diabetes_BD.txt')\n",
    "\n",
    "x= np.array(df.drop(['class'],1)) \n",
    "y=np.array(df['class'])\n",
    "w=0\n",
    "d=0\n",
    "for i in range(len(y)):\n",
    "    if y[i]==1:\n",
    "        w=w+1\n",
    "    else: \n",
    "        d=d+1\n",
    "total=y.shape[0] \n",
    "print(\"Numero de pacientes com Diabetes na base de dados: \" + str(w))\n",
    "print(\"\\nNumero de pacientes sem Diabetes na base de dados: \" + str(d))\n",
    "\n",
    "x_train,x_test,y_train,y_test =model_selection.train_test_split(x,y,test_size=0.2)\n",
    "\n",
    "clf =neighbors.KNeighborsClassifier() \n",
    "clf.fit(x_train, y_train)\n",
    "\n",
    "accuracy=clf.score(x_test,y_test)\n",
    "print(\"\\nAccuracy = \" + str(accuracy)+\"\\n\")\n",
    "\n",
    "\n",
    "#example_measures = np.array([[7,196,90,0,0,39.8,0.451,41],[1,85,66,29,0,26.6,0.351,31]])\n",
    "example_measures = np.array([[float(input('Número de gravidezes: ')), \n",
    "                              float(input('Concentraçao de glicose 2 horas apos o exame de tolerancia a glicose (mg/Hg): ')),\n",
    "                              float(input('Pressao sanguinea (mg/Hg): ')), float(input('Espessura da dobra da pele do triceps (mm): ')), \n",
    "                              float(input('Niveis de insulina apos o exame(U/ml): ')), float(input('Indice de massa corporal: ')), \n",
    "                              float(input('Função de pedigree de diabetes: ')), \n",
    "                              float(input('Idade: '))]]) \n",
    "example_measures=example_measures.reshape(len(example_measures),-1)\n",
    "\n",
    "prediction = clf.predict(example_measures) \n",
    "if prediction:\n",
    "    print(str(prediction) + \"- Tem Diabetes\") \n",
    "else: \n",
    "    print(str(prediction) + \"- Nao tem diabetes\")\n",
    "\n",
    "#accuracies.append(accuracy)\n",
    "\n",
    "#print(sum(accuracies)/len(accuracies))\n"
   ]
  },
  {
   "cell_type": "code",
   "execution_count": null,
   "metadata": {},
   "outputs": [
    {
     "name": "stderr",
     "output_type": "stream",
     "text": [
      "C:\\Users\\Tiago\\Anaconda3\\lib\\site-packages\\sklearn\\svm\\base.py:196: FutureWarning: The default value of gamma will change from 'auto' to 'scale' in version 0.22 to account better for unscaled features. Set gamma explicitly to 'auto' or 'scale' to avoid this warning.\n",
      "  \"avoid this warning.\", FutureWarning)\n"
     ]
    },
    {
     "name": "stdout",
     "output_type": "stream",
     "text": [
      "Numero de pacientes com Diabetes na base de dados: 268\n",
      "\n",
      "Numero de pacientes sem Diabetes na base de dados: 500\n",
      "\n",
      "Accuracy = 0.6753246753246753\n",
      "\n"
     ]
    }
   ],
   "source": [
    "#SVM\n",
    "import numpy as np\n",
    "from sklearn import preprocessing, model_selection, neighbors,svm \n",
    "import pandas as pd \n",
    "accuracies=[]\n",
    "\n",
    "#for i in range(25): \n",
    "df=pd.read_csv('Diabetes_BD.txt')\n",
    "\n",
    "x= np.array(df.drop(['class'],1)) \n",
    "y=np.array(df['class'])\n",
    "w=0\n",
    "d=0\n",
    "for i in range(len(y)):\n",
    "    if y[i]==1:\n",
    "        w=w+1\n",
    "    else: \n",
    "        d=d+1\n",
    "total=y.shape[0] \n",
    "print(\"Numero de pacientes com Diabetes na base de dados: \" + str(w))\n",
    "print(\"\\nNumero de pacientes sem Diabetes na base de dados: \" + str(d))\n",
    "\n",
    "x_train,x_test,y_train,y_test =model_selection.train_test_split(x,y,test_size=0.2)\n",
    "\n",
    "clf =svm.SVC()\n",
    "clf.fit(x_train, y_train)\n",
    "\n",
    "accuracy=clf.score(x_test,y_test)\n",
    "print(\"\\nAccuracy = \" + str(accuracy)+\"\\n\")\n",
    "\n",
    "\n",
    "#example_measures = np.array([[7,196,90,0,0,39.8,0.451,41],[1,85,66,29,0,26.6,0.351,31]])\n",
    "example_measures = np.array([[float(input('Número de gravidezes: ')), \n",
    "                              float(input('Concentraçao de glicose 2 horas apos o exame de tolerancia a glicose (mg/Hg): ')),\n",
    "                              float(input('Pressao sanguinea (mg/Hg): ')), float(input('Espessura da dobra da pele do triceps (mm): ')), \n",
    "                              float(input('Niveis de insulina apos o exame(U/ml): ')), float(input('Indice de massa corporal: ')), \n",
    "                              float(input('Função de pedigree de diabetes: ')), \n",
    "                              float(input('Idade: '))]]) \n",
    "example_measures=example_measures.reshape(len(example_measures),-1)\n",
    "\n",
    "prediction = clf.predict(example_measures) \n",
    "if prediction:\n",
    "    print(str(prediction) + \"- Tem Diabetes\") \n",
    "else: \n",
    "    print(str(prediction) + \"- Nao tem diabetes\")"
   ]
  },
  {
   "cell_type": "code",
   "execution_count": null,
   "metadata": {},
   "outputs": [],
   "source": []
  },
  {
   "cell_type": "code",
   "execution_count": null,
   "metadata": {},
   "outputs": [],
   "source": []
  }
 ],
 "metadata": {
  "kernelspec": {
   "display_name": "Python 3",
   "language": "python",
   "name": "python3"
  },
  "language_info": {
   "codemirror_mode": {
    "name": "ipython",
    "version": 3
   },
   "file_extension": ".py",
   "mimetype": "text/x-python",
   "name": "python",
   "nbconvert_exporter": "python",
   "pygments_lexer": "ipython3",
   "version": "3.7.3"
  }
 },
 "nbformat": 4,
 "nbformat_minor": 2
}
